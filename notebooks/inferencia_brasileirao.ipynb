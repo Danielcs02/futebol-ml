{
 "cells": [
  {
   "cell_type": "code",
   "execution_count": 108,
   "id": "e6a38894",
   "metadata": {},
   "outputs": [
    {
     "name": "stdout",
     "output_type": "stream",
     "text": [
      "   k  Day       Date   Time       Home   xG Score xG.1              Away  \\\n",
      "0  1  Sat  3/29/2025  18:30  São Paulo  2.4   0–0  0.4      Sport Recife   \n",
      "1  1  Sat  3/29/2025  18:30  Juventude  0.7   2–0  0.6           Vitória   \n",
      "2  1  Sat  3/29/2025  18:30  Fortaleza  0.9   2–0  0.9        Fluminense   \n",
      "3  1  Sat  3/29/2025  18:30   Cruzeiro  1.2   2–1  1.7          Mirassol   \n",
      "4  1  Sat  3/29/2025  18:30     Grêmio  0.8   2–1  2.9  Atlético Mineiro   \n",
      "\n",
      "  Attendance                               Venue  \\\n",
      "0        NaN                  Estádio do Morumbi   \n",
      "1        NaN              Estádio Alfredo Jaconi   \n",
      "2        NaN                    Estádio Castelão   \n",
      "3     40,837  Estádio Governador Magalhães Pinto   \n",
      "4        NaN                     Arena do Grêmio   \n",
      "\n",
      "                          Referee  Match Report Notes  \n",
      "0        Felipe Fernandes de Lima  Match Report   NaN  \n",
      "1  Paulo Cesar Zanovelli da Silva  Match Report   NaN  \n",
      "2    Rodrigo José Pereira de Lima  Match Report   NaN  \n",
      "3              Alex Gomes Stefano  Match Report   NaN  \n",
      "4                   Raphael Claus  Match Report   NaN  \n"
     ]
    }
   ],
   "source": [
    "# Carregar o CSV do Brasileirão\n",
    "df_bra = pd.read_csv('../data/brasileirao/brasileirao_scores.csv', encoding='cp1252')\n",
    "\n",
    "# Verificar as primeiras linhas para garantir que os dados estão ok\n",
    "print(df_bra.head())\n"
   ]
  },
  {
   "cell_type": "code",
   "execution_count": 109,
   "id": "3a8cbc74",
   "metadata": {},
   "outputs": [
    {
     "name": "stdout",
     "output_type": "stream",
     "text": [
      "        Home              Away Score Score_clean\n",
      "0  São Paulo      Sport Recife   0–0         0-0\n",
      "1  Juventude           Vitória   2–0         2-0\n",
      "2  Fortaleza        Fluminense   2–0         2-0\n",
      "3   Cruzeiro          Mirassol   2–1         2-1\n",
      "4     Grêmio  Atlético Mineiro   2–1         2-1\n"
     ]
    }
   ],
   "source": [
    "# Limpar qualquer caractere estranho no placar\n",
    "df_bra['Score_clean'] = df_bra['Score'].str.replace(r'[^\\d\\-]', '-', regex=True)\n",
    "\n",
    "# Verificar a coluna 'Score_clean' para garantir que foi corrigido\n",
    "print(df_bra[['Home', 'Away', 'Score', 'Score_clean']].head())\n"
   ]
  },
  {
   "cell_type": "code",
   "execution_count": 110,
   "id": "934bfad7",
   "metadata": {},
   "outputs": [
    {
     "name": "stdout",
     "output_type": "stream",
     "text": [
      "        Home              Away Score_clean\n",
      "0  São Paulo      Sport Recife         0-0\n",
      "1  Juventude           Vitória         2-0\n",
      "2  Fortaleza        Fluminense         2-0\n",
      "3   Cruzeiro          Mirassol         2-1\n",
      "4     Grêmio  Atlético Mineiro         2-1\n"
     ]
    }
   ],
   "source": [
    "# Substituir os NaN por vazio\n",
    "df_bra['Score_clean'] = df_bra['Score_clean'].fillna('')\n",
    "\n",
    "# Verificar o resultado\n",
    "print(df_bra[['Home', 'Away', 'Score_clean']].head())\n"
   ]
  },
  {
   "cell_type": "code",
   "execution_count": 111,
   "id": "fb035a67",
   "metadata": {},
   "outputs": [
    {
     "name": "stdout",
     "output_type": "stream",
     "text": [
      "                 Home              Away Score_clean\n",
      "0           São Paulo      Sport Recife         0-0\n",
      "1           Juventude           Vitória         2-0\n",
      "2           Fortaleza        Fluminense         2-0\n",
      "3            Cruzeiro          Mirassol         2-1\n",
      "4              Grêmio  Atlético Mineiro         2-1\n",
      "..                ...               ...         ...\n",
      "424  Atlético Mineiro     Vasco da Gama            \n",
      "425          Mirassol          Flamengo            \n",
      "426           Vitória         São Paulo            \n",
      "427      Sport Recife            Grêmio            \n",
      "428       Corinthians         Juventude            \n",
      "\n",
      "[429 rows x 3 columns]\n"
     ]
    }
   ],
   "source": [
    "# Verificar as linhas com valores não numéricos em 'Score_clean'\n",
    "df_problemas = df_bra[pd.to_numeric(df_bra['Score_clean'], errors='coerce').isna()]\n",
    "\n",
    "# Exibir essas linhas para ver o que está errado\n",
    "print(df_problemas[['Home', 'Away', 'Score_clean']])\n"
   ]
  },
  {
   "cell_type": "code",
   "execution_count": 112,
   "id": "94af2739",
   "metadata": {},
   "outputs": [
    {
     "name": "stdout",
     "output_type": "stream",
     "text": [
      "        Home              Away Score_clean\n",
      "0  São Paulo      Sport Recife         0-0\n",
      "1  Juventude           Vitória         2-0\n",
      "2  Fortaleza        Fluminense         2-0\n",
      "3   Cruzeiro          Mirassol         2-1\n",
      "4     Grêmio  Atlético Mineiro         2-1\n"
     ]
    }
   ],
   "source": [
    "# Remover as linhas com 'NaN' ou valores vazios em 'Score_clean'\n",
    "df_bra = df_bra[df_bra['Score_clean'].notna()]  # Remover NaN\n",
    "df_bra = df_bra[df_bra['Score_clean'] != '']  # Remover valores vazios\n",
    "\n",
    "# Agora, remover qualquer linha onde o placar não tenha o formato correto\n",
    "df_bra = df_bra[df_bra['Score_clean'].str.match(r'^\\d+-\\d+$')]\n",
    "\n",
    "# Verificar as primeiras linhas após a limpeza\n",
    "print(df_bra[['Home', 'Away', 'Score_clean']].head())\n"
   ]
  },
  {
   "cell_type": "code",
   "execution_count": 113,
   "id": "fd4c5aba",
   "metadata": {},
   "outputs": [
    {
     "name": "stdout",
     "output_type": "stream",
     "text": [
      "        Home              Away  Home_Goals_Real  Away_Goals_Real\n",
      "0  São Paulo      Sport Recife                0                0\n",
      "1  Juventude           Vitória                2                0\n",
      "2  Fortaleza        Fluminense                2                0\n",
      "3   Cruzeiro          Mirassol                2                1\n",
      "4     Grêmio  Atlético Mineiro                2                1\n"
     ]
    }
   ],
   "source": [
    "# Dividir a coluna 'Score_clean' em 'Home_Goals_Real' e 'Away_Goals_Real'\n",
    "df_bra[['Home_Goals_Real', 'Away_Goals_Real']] = df_bra['Score_clean'].str.split('-', expand=True)\n",
    "\n",
    "# Converter para inteiros\n",
    "df_bra['Home_Goals_Real'] = df_bra['Home_Goals_Real'].astype(int)\n",
    "df_bra['Away_Goals_Real'] = df_bra['Away_Goals_Real'].astype(int)\n",
    "\n",
    "# Verificar os dados\n",
    "print(df_bra[['Home', 'Away', 'Home_Goals_Real', 'Away_Goals_Real']].head())\n"
   ]
  },
  {
   "cell_type": "code",
   "execution_count": 114,
   "id": "c34b7c11",
   "metadata": {},
   "outputs": [
    {
     "name": "stdout",
     "output_type": "stream",
     "text": [
      "        Home              Away  Team_Rank  Away_Team_Rank\n",
      "0  são paulo      sport recife         16              20\n",
      "1  juventude           vitória         18              14\n",
      "2  fortaleza        fluminense         11               5\n",
      "3   cruzeiro          mirassol          4              12\n",
      "4     grêmio  atlético mineiro         15               7\n"
     ]
    }
   ],
   "source": [
    "# Normalizar os nomes dos times para minúsculas e remover espaços extras\n",
    "df_bra['Home'] = df_bra['Home'].str.lower().str.strip()\n",
    "df_bra['Away'] = df_bra['Away'].str.lower().str.strip()\n",
    "tabela_brasileirao['Squad'] = tabela_brasileirao['Squad'].str.lower().str.strip()\n",
    "\n",
    "# Adicionar a coluna 'Team_Rank' no DataFrame de jogos com o ranking de cada time\n",
    "df_bra['Team_Rank'] = df_bra['Home'].map(tabela_brasileirao.set_index('Squad')['Position'])\n",
    "\n",
    "# Adicionar o ranking do time visitante\n",
    "df_bra['Away_Team_Rank'] = df_bra['Away'].map(tabela_brasileirao.set_index('Squad')['Position'])\n",
    "\n",
    "# Verificar se a coluna foi adicionada corretamente\n",
    "print(df_bra[['Home', 'Away', 'Team_Rank', 'Away_Team_Rank']].head())\n",
    "\n"
   ]
  },
  {
   "cell_type": "code",
   "execution_count": 115,
   "id": "d53bcdfc",
   "metadata": {},
   "outputs": [
    {
     "name": "stdout",
     "output_type": "stream",
     "text": [
      "        Home   xG              Away  xG.1\n",
      "0  são paulo  2.4      sport recife   0.4\n",
      "1  juventude  0.7           vitória   0.6\n",
      "2  fortaleza  0.9        fluminense   0.9\n",
      "3   cruzeiro  1.2          mirassol   1.7\n",
      "4     grêmio  0.8  atlético mineiro   2.9\n"
     ]
    }
   ],
   "source": [
    "# Converter as colunas 'xG' e 'xG.1' para tipo numérico\n",
    "df_bra['xG'] = pd.to_numeric(df_bra['xG'], errors='coerce')\n",
    "df_bra['xG.1'] = pd.to_numeric(df_bra['xG.1'], errors='coerce')\n",
    "\n",
    "# Verificar se a conversão foi feita corretamente\n",
    "print(df_bra[['Home', 'xG', 'Away', 'xG.1']].head())\n"
   ]
  },
  {
   "cell_type": "code",
   "execution_count": 119,
   "id": "58e952e5",
   "metadata": {},
   "outputs": [
    {
     "name": "stdout",
     "output_type": "stream",
     "text": [
      "        Home   xG  Home_xG_Avg              Away  xG.1  Away_xG_Avg\n",
      "0  são paulo  2.4        1.575      sport recife   0.4        0.700\n",
      "1  juventude  0.7        1.175           vitória   0.6        0.800\n",
      "2  fortaleza  0.9        1.350        fluminense   0.9        0.775\n",
      "3   cruzeiro  1.2        1.400          mirassol   1.7        1.250\n",
      "4     grêmio  0.8        0.680  atlético mineiro   2.9        1.650\n"
     ]
    }
   ],
   "source": [
    "# Calcular a média de xG do time da casa jogando em casa\n",
    "df_bra['Home_xG_Avg'] = df_bra.groupby('Home')['xG'].transform('mean')\n",
    "# Calcular a média de xG do time visitante jogando fora\n",
    "df_bra['Away_xG_Avg'] = df_bra.groupby('Away')['xG.1'].transform('mean')\n",
    "\n",
    "\n",
    "# Verificar se a média foi adicionada corretamente\n",
    "print(df_bra[['Home', 'xG', 'Home_xG_Avg', 'Away', 'xG.1', 'Away_xG_Avg']].head())\n"
   ]
  },
  {
   "cell_type": "code",
   "execution_count": 122,
   "id": "d4fc8238",
   "metadata": {},
   "outputs": [
    {
     "name": "stdout",
     "output_type": "stream",
     "text": [
      "        Home              Away  Total_Goals_For  Total_Goals_Against\n",
      "0  são paulo      sport recife                3                    3\n",
      "1  juventude           vitória                6                    3\n",
      "2  fortaleza        fluminense                8                    4\n",
      "3   cruzeiro          mirassol                8                    4\n",
      "4     grêmio  atlético mineiro                5                    4\n"
     ]
    }
   ],
   "source": [
    "# Gols feitos pelo time da casa (considerando apenas os gols marcados em casa)\n",
    "df_bra['Total_Goals_For'] = df_bra.groupby('Home')['Home_Goals_Real'].transform('sum')\n",
    "\n",
    "# Gols feitos pelo time visitante (considerando apenas os gols marcados fora)\n",
    "df_bra['Total_Goals_Against'] = df_bra.groupby('Away')['Away_Goals_Real'].transform('sum')\n",
    "\n",
    "# Verificar os totais de gols feitos e sofridos\n",
    "print(df_bra[['Home', 'Away', 'Total_Goals_For', 'Total_Goals_Against']].head())\n"
   ]
  },
  {
   "cell_type": "code",
   "execution_count": 123,
   "id": "ec30368a",
   "metadata": {},
   "outputs": [
    {
     "name": "stdout",
     "output_type": "stream",
     "text": [
      "        Home              Away  Home_Goals_Against  Away_Goals_Against\n",
      "0  são paulo      sport recife                   2                   7\n",
      "1  juventude           vitória                   4                   6\n",
      "2  fortaleza        fluminense                   2                   7\n",
      "3   cruzeiro          mirassol                   2                   6\n",
      "4     grêmio  atlético mineiro                   5                   6\n"
     ]
    }
   ],
   "source": [
    "# Gols sofridos pelo time da casa dentro de casa\n",
    "df_bra['Home_Goals_Against'] = df_bra.groupby('Home')['Away_Goals_Real'].transform('sum')\n",
    "\n",
    "# Gols sofridos pelo time visitante fora de casa\n",
    "df_bra['Away_Goals_Against'] = df_bra.groupby('Away')['Home_Goals_Real'].transform('sum')\n",
    "\n",
    "# Verificar os totais de gols sofridos\n",
    "print(df_bra[['Home', 'Away', 'Home_Goals_Against', 'Away_Goals_Against']].head())\n"
   ]
  },
  {
   "cell_type": "code",
   "execution_count": 145,
   "id": "649ea68d",
   "metadata": {},
   "outputs": [
    {
     "name": "stdout",
     "output_type": "stream",
     "text": [
      "        Home Last_5_Performance\n",
      "0  são paulo      E, D, E, E, V\n",
      "1  juventude      D, D, D, D, E\n",
      "2  fortaleza      E, V, E, E, D\n",
      "3   cruzeiro      V, V, D, V, D\n",
      "4     grêmio      V, E, D, E, E\n"
     ]
    }
   ],
   "source": [
    "# Inicializando a coluna 'Last_5_Performance' para armazenar os resultados\n",
    "df_bra['Last_5_Performance'] = ''\n",
    "\n",
    "# Vamos percorrer os times e calcular os últimos 5 jogos\n",
    "for team in df_bra['Home'].unique():\n",
    "    # Filtrando os últimos 5 jogos para o time (como 'Home' ou 'Away')\n",
    "    team_games = df_bra[(df_bra['Home'] == team) | (df_bra['Away'] == team)].sort_values(by='Date', ascending=False).head(5)\n",
    "    \n",
    "    # Determinando os resultados de cada jogo\n",
    "    performances = []\n",
    "    for _, row in team_games.iterrows():\n",
    "        if row['Home'] == team:  # Se o time é o da casa\n",
    "            if row['Home_Goals_Real'] > row['Away_Goals_Real']:\n",
    "                performances.append('V')  # Vitória\n",
    "            elif row['Home_Goals_Real'] == row['Away_Goals_Real']:\n",
    "                performances.append('E')  # Empate\n",
    "            else:\n",
    "                performances.append('D')  # Derrota\n",
    "        else:  # Se o time é o visitante\n",
    "            if row['Away_Goals_Real'] > row['Home_Goals_Real']:\n",
    "                performances.append('V')  # Vitória\n",
    "            elif row['Away_Goals_Real'] == row['Home_Goals_Real']:\n",
    "                performances.append('E')  # Empate\n",
    "            else:\n",
    "                performances.append('D')  # Derrota\n",
    "\n",
    "    # Armazenando as últimas 5 performances no DataFrame\n",
    "    df_bra.loc[df_bra['Home'] == team, 'Last_5_Performance'] = ', '.join(performances)\n",
    "\n",
    "# Verificar os dados\n",
    "print(df_bra[['Home', 'Last_5_Performance']].head())\n"
   ]
  },
  {
   "cell_type": "code",
   "execution_count": 149,
   "id": "0151a636",
   "metadata": {},
   "outputs": [
    {
     "name": "stdout",
     "output_type": "stream",
     "text": [
      "        Home Last_5_Performance  Last_5_Wins\n",
      "0  são paulo      E, D, E, E, V            1\n",
      "1  juventude      D, D, D, D, E            0\n",
      "2  fortaleza      E, V, E, E, D            1\n",
      "3   cruzeiro      V, V, D, V, D            3\n",
      "4     grêmio      V, E, D, E, E            1\n"
     ]
    }
   ],
   "source": [
    "# Contar o número de vitórias nos últimos 5 jogos\n",
    "df_bra['Last_5_Wins'] = df_bra['Last_5_Performance'].apply(lambda x: x.count('V') if isinstance(x, str) else 0)\n",
    "\n",
    "# Verificar a nova variável 'Last_5_Wins'\n",
    "print(df_bra[['Home', 'Last_5_Performance', 'Last_5_Wins']].head())\n"
   ]
  },
  {
   "cell_type": "code",
   "execution_count": 151,
   "id": "247c9f0d",
   "metadata": {},
   "outputs": [
    {
     "name": "stdout",
     "output_type": "stream",
     "text": [
      "R² : 0.446289546199626\n"
     ]
    }
   ],
   "source": [
    "from sklearn.linear_model import LinearRegression\n",
    "import joblib\n",
    "\n",
    "# Selecionar as variáveis para a previsão\n",
    "X = df_bra[['Home_xG_Avg', 'Away_xG_Avg', 'Team_Rank', 'Away_Team_Rank', \n",
    "            'Total_Goals_For', 'Home_Goals_Against', 'Total_Goals_Against', \n",
    "            'Away_Goals_Against', 'Last_5_Wins']]\n",
    "\n",
    "# O alvo (y) será o número de gols do time da casa (Home_Goals_Real)\n",
    "y = df_bra['Home_Goals_Real']\n",
    "\n",
    "# Criar o modelo de regressão linear\n",
    "modelo = LinearRegression()\n",
    "\n",
    "# Treinar o modelo\n",
    "modelo.fit(X, y)\n",
    "\n",
    "# Salvar o modelo treinado\n",
    "joblib.dump(modelo, '../models/modelo_brasileirao_com_forma_recenete.pkl')\n",
    "\n",
    "# Verificar o coeficiente de determinação (R²) para ver o desempenho\n",
    "r2 = modelo.score(X, y)\n",
    "print(f\"R² : {r2}\")\n"
   ]
  },
  {
   "cell_type": "code",
   "execution_count": 154,
   "id": "1fd89da5",
   "metadata": {},
   "outputs": [
    {
     "name": "stdout",
     "output_type": "stream",
     "text": [
      "            Home              Away  Home_Goals_Real  Predicted_Home_Goals\n",
      "0      são paulo      sport recife                0              1.180397\n",
      "1      juventude           vitória                2              1.550477\n",
      "2      fortaleza        fluminense                2              1.931384\n",
      "3       cruzeiro          mirassol                2              1.678360\n",
      "4         grêmio  atlético mineiro                2              1.261740\n",
      "5      palmeiras     botafogo (rj)                0              0.563402\n",
      "6  vasco da gama            santos                2              1.400710\n",
      "7          bahia       corinthians                1              1.708162\n",
      "8       flamengo     internacional                1              3.057821\n",
      "9  rb bragantino             ceará                2              1.128735\n"
     ]
    }
   ],
   "source": [
    "# Prever os gols para os jogos atuais\n",
    "df_bra['Predicted_Home_Goals'] = modelo.predict(X)\n",
    "\n",
    "# Verificar as previsões\n",
    "print(df_bra[['Home', 'Away', 'Home_Goals_Real', 'Predicted_Home_Goals']].head(10))\n"
   ]
  }
 ],
 "metadata": {
  "kernelspec": {
   "display_name": ".venv",
   "language": "python",
   "name": "python3"
  },
  "language_info": {
   "codemirror_mode": {
    "name": "ipython",
    "version": 3
   },
   "file_extension": ".py",
   "mimetype": "text/x-python",
   "name": "python",
   "nbconvert_exporter": "python",
   "pygments_lexer": "ipython3",
   "version": "3.12.8"
  }
 },
 "nbformat": 4,
 "nbformat_minor": 5
}
